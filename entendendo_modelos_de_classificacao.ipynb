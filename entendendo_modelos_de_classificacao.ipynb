{
  "nbformat": 4,
  "nbformat_minor": 0,
  "metadata": {
    "colab": {
      "name": "entendendo_modelos_de_classificacao.ipynb",
      "provenance": [],
      "authorship_tag": "ABX9TyP5SjPx8WSUs9HIvLcE4uob",
      "include_colab_link": true
    },
    "kernelspec": {
      "name": "python3",
      "display_name": "Python 3"
    },
    "language_info": {
      "name": "python"
    }
  },
  "cells": [
    {
      "cell_type": "markdown",
      "metadata": {
        "id": "view-in-github",
        "colab_type": "text"
      },
      "source": [
        "<a href=\"https://colab.research.google.com/github/conradoov/formacao_machine_learning_alura/blob/main/entendendo_modelos_de_classificacao.ipynb\" target=\"_parent\"><img src=\"https://colab.research.google.com/assets/colab-badge.svg\" alt=\"Open In Colab\"/></a>"
      ]
    },
    {
      "cell_type": "code",
      "source": [
        "!pip install -U imbalanced-learn"
      ],
      "metadata": {
        "colab": {
          "base_uri": "https://localhost:8080/"
        },
        "id": "nR_IBdqPATpb",
        "outputId": "325500ce-e628-46c3-87c4-138e4c917687"
      },
      "execution_count": 1,
      "outputs": [
        {
          "output_type": "stream",
          "name": "stdout",
          "text": [
            "Looking in indexes: https://pypi.org/simple, https://us-python.pkg.dev/colab-wheels/public/simple/\n",
            "Requirement already satisfied: imbalanced-learn in /usr/local/lib/python3.7/dist-packages (0.8.1)\n",
            "Collecting imbalanced-learn\n",
            "  Downloading imbalanced_learn-0.9.1-py3-none-any.whl (199 kB)\n",
            "\u001b[K     |████████████████████████████████| 199 kB 5.2 MB/s \n",
            "\u001b[?25hRequirement already satisfied: numpy>=1.17.3 in /usr/local/lib/python3.7/dist-packages (from imbalanced-learn) (1.21.6)\n",
            "Requirement already satisfied: threadpoolctl>=2.0.0 in /usr/local/lib/python3.7/dist-packages (from imbalanced-learn) (3.1.0)\n",
            "Requirement already satisfied: joblib>=1.0.0 in /usr/local/lib/python3.7/dist-packages (from imbalanced-learn) (1.1.0)\n",
            "  Downloading imbalanced_learn-0.9.0-py3-none-any.whl (199 kB)\n",
            "\u001b[K     |████████████████████████████████| 199 kB 46.5 MB/s \n",
            "\u001b[?25hRequirement already satisfied: scipy>=1.1.0 in /usr/local/lib/python3.7/dist-packages (from imbalanced-learn) (1.5.4)\n",
            "Requirement already satisfied: scikit-learn>=1.0.1 in /usr/local/lib/python3.7/dist-packages (from imbalanced-learn) (1.0.2)\n",
            "Installing collected packages: imbalanced-learn\n",
            "  Attempting uninstall: imbalanced-learn\n",
            "    Found existing installation: imbalanced-learn 0.8.1\n",
            "    Uninstalling imbalanced-learn-0.8.1:\n",
            "      Successfully uninstalled imbalanced-learn-0.8.1\n",
            "Successfully installed imbalanced-learn-0.9.0\n"
          ]
        }
      ]
    },
    {
      "cell_type": "markdown",
      "source": [
        "# Trabalhando com base de modelos de classificação"
      ],
      "metadata": {
        "id": "_iHL1_CAyJF9"
      }
    },
    {
      "cell_type": "markdown",
      "source": [
        "Neste curso serão abordados modelos de classificação para analise de uma base que envolve a gestão comercial de clientes (Churn)"
      ],
      "metadata": {
        "id": "F15S4TXUyYxP"
      }
    },
    {
      "cell_type": "markdown",
      "source": [
        "Objetivo: selecionar características que classifiquem potenciais clientes com relação ao potencial seu potencial de fidelização (perda ou manutenção do contrato) -  Churn (Sim, Nao)"
      ],
      "metadata": {
        "id": "TZCUBV4FzbHu"
      }
    },
    {
      "cell_type": "markdown",
      "source": [
        "## Importando e analisando base de dados"
      ],
      "metadata": {
        "id": "omhBWOlnyjFK"
      }
    },
    {
      "cell_type": "code",
      "execution_count": 18,
      "metadata": {
        "colab": {
          "base_uri": "https://localhost:8080/",
          "height": 270
        },
        "id": "LcNLHRX_w2jU",
        "outputId": "b212e4c8-a645-48b1-8fb9-19987e103b3f"
      },
      "outputs": [
        {
          "output_type": "execute_result",
          "data": {
            "text/plain": [
              "   Maior65Anos Conjuge Dependentes  MesesDeContrato TelefoneFixo  \\\n",
              "0            0     Sim         Nao                1          Nao   \n",
              "1            0     Nao         Nao               34          Sim   \n",
              "2            0     Nao         Nao                2          Sim   \n",
              "3            0     Nao         Nao               45          Nao   \n",
              "4            0     Nao         Nao                2          Sim   \n",
              "\n",
              "  VariasLinhasTelefonicas ServicoDeInternet SegurancaOnline BackupOnline  \\\n",
              "0    SemServicoTelefonico               DSL             Nao          Sim   \n",
              "1                     Nao               DSL             Sim          Nao   \n",
              "2                     Nao               DSL             Sim          Sim   \n",
              "3    SemServicoTelefonico               DSL             Sim          Nao   \n",
              "4                     Nao       FibraOptica             Nao          Nao   \n",
              "\n",
              "  SeguroNoDispositivo SuporteTecnico TVaCabo StreamingDeFilmes TipoDeContrato  \\\n",
              "0                 Nao            Nao     Nao               Nao    Mensalmente   \n",
              "1                 Sim            Nao     Nao               Nao          UmAno   \n",
              "2                 Nao            Nao     Nao               Nao    Mensalmente   \n",
              "3                 Sim            Sim     Nao               Nao          UmAno   \n",
              "4                 Nao            Nao     Nao               Nao    Mensalmente   \n",
              "\n",
              "  PagamentoOnline FormaDePagamento  ContaMensal Churn  \n",
              "0             Sim    ChequeDigital        29.85   Nao  \n",
              "1             Nao      ChequePapel        56.95   Nao  \n",
              "2             Sim      ChequePapel        53.85   Sim  \n",
              "3             Nao    DebitoEmConta        42.30   Nao  \n",
              "4             Sim    ChequeDigital        70.70   Sim  "
            ],
            "text/html": [
              "\n",
              "  <div id=\"df-109e3a1b-c083-4994-b7b6-77034eb7f1fd\">\n",
              "    <div class=\"colab-df-container\">\n",
              "      <div>\n",
              "<style scoped>\n",
              "    .dataframe tbody tr th:only-of-type {\n",
              "        vertical-align: middle;\n",
              "    }\n",
              "\n",
              "    .dataframe tbody tr th {\n",
              "        vertical-align: top;\n",
              "    }\n",
              "\n",
              "    .dataframe thead th {\n",
              "        text-align: right;\n",
              "    }\n",
              "</style>\n",
              "<table border=\"1\" class=\"dataframe\">\n",
              "  <thead>\n",
              "    <tr style=\"text-align: right;\">\n",
              "      <th></th>\n",
              "      <th>Maior65Anos</th>\n",
              "      <th>Conjuge</th>\n",
              "      <th>Dependentes</th>\n",
              "      <th>MesesDeContrato</th>\n",
              "      <th>TelefoneFixo</th>\n",
              "      <th>VariasLinhasTelefonicas</th>\n",
              "      <th>ServicoDeInternet</th>\n",
              "      <th>SegurancaOnline</th>\n",
              "      <th>BackupOnline</th>\n",
              "      <th>SeguroNoDispositivo</th>\n",
              "      <th>SuporteTecnico</th>\n",
              "      <th>TVaCabo</th>\n",
              "      <th>StreamingDeFilmes</th>\n",
              "      <th>TipoDeContrato</th>\n",
              "      <th>PagamentoOnline</th>\n",
              "      <th>FormaDePagamento</th>\n",
              "      <th>ContaMensal</th>\n",
              "      <th>Churn</th>\n",
              "    </tr>\n",
              "  </thead>\n",
              "  <tbody>\n",
              "    <tr>\n",
              "      <th>0</th>\n",
              "      <td>0</td>\n",
              "      <td>Sim</td>\n",
              "      <td>Nao</td>\n",
              "      <td>1</td>\n",
              "      <td>Nao</td>\n",
              "      <td>SemServicoTelefonico</td>\n",
              "      <td>DSL</td>\n",
              "      <td>Nao</td>\n",
              "      <td>Sim</td>\n",
              "      <td>Nao</td>\n",
              "      <td>Nao</td>\n",
              "      <td>Nao</td>\n",
              "      <td>Nao</td>\n",
              "      <td>Mensalmente</td>\n",
              "      <td>Sim</td>\n",
              "      <td>ChequeDigital</td>\n",
              "      <td>29.85</td>\n",
              "      <td>Nao</td>\n",
              "    </tr>\n",
              "    <tr>\n",
              "      <th>1</th>\n",
              "      <td>0</td>\n",
              "      <td>Nao</td>\n",
              "      <td>Nao</td>\n",
              "      <td>34</td>\n",
              "      <td>Sim</td>\n",
              "      <td>Nao</td>\n",
              "      <td>DSL</td>\n",
              "      <td>Sim</td>\n",
              "      <td>Nao</td>\n",
              "      <td>Sim</td>\n",
              "      <td>Nao</td>\n",
              "      <td>Nao</td>\n",
              "      <td>Nao</td>\n",
              "      <td>UmAno</td>\n",
              "      <td>Nao</td>\n",
              "      <td>ChequePapel</td>\n",
              "      <td>56.95</td>\n",
              "      <td>Nao</td>\n",
              "    </tr>\n",
              "    <tr>\n",
              "      <th>2</th>\n",
              "      <td>0</td>\n",
              "      <td>Nao</td>\n",
              "      <td>Nao</td>\n",
              "      <td>2</td>\n",
              "      <td>Sim</td>\n",
              "      <td>Nao</td>\n",
              "      <td>DSL</td>\n",
              "      <td>Sim</td>\n",
              "      <td>Sim</td>\n",
              "      <td>Nao</td>\n",
              "      <td>Nao</td>\n",
              "      <td>Nao</td>\n",
              "      <td>Nao</td>\n",
              "      <td>Mensalmente</td>\n",
              "      <td>Sim</td>\n",
              "      <td>ChequePapel</td>\n",
              "      <td>53.85</td>\n",
              "      <td>Sim</td>\n",
              "    </tr>\n",
              "    <tr>\n",
              "      <th>3</th>\n",
              "      <td>0</td>\n",
              "      <td>Nao</td>\n",
              "      <td>Nao</td>\n",
              "      <td>45</td>\n",
              "      <td>Nao</td>\n",
              "      <td>SemServicoTelefonico</td>\n",
              "      <td>DSL</td>\n",
              "      <td>Sim</td>\n",
              "      <td>Nao</td>\n",
              "      <td>Sim</td>\n",
              "      <td>Sim</td>\n",
              "      <td>Nao</td>\n",
              "      <td>Nao</td>\n",
              "      <td>UmAno</td>\n",
              "      <td>Nao</td>\n",
              "      <td>DebitoEmConta</td>\n",
              "      <td>42.30</td>\n",
              "      <td>Nao</td>\n",
              "    </tr>\n",
              "    <tr>\n",
              "      <th>4</th>\n",
              "      <td>0</td>\n",
              "      <td>Nao</td>\n",
              "      <td>Nao</td>\n",
              "      <td>2</td>\n",
              "      <td>Sim</td>\n",
              "      <td>Nao</td>\n",
              "      <td>FibraOptica</td>\n",
              "      <td>Nao</td>\n",
              "      <td>Nao</td>\n",
              "      <td>Nao</td>\n",
              "      <td>Nao</td>\n",
              "      <td>Nao</td>\n",
              "      <td>Nao</td>\n",
              "      <td>Mensalmente</td>\n",
              "      <td>Sim</td>\n",
              "      <td>ChequeDigital</td>\n",
              "      <td>70.70</td>\n",
              "      <td>Sim</td>\n",
              "    </tr>\n",
              "  </tbody>\n",
              "</table>\n",
              "</div>\n",
              "      <button class=\"colab-df-convert\" onclick=\"convertToInteractive('df-109e3a1b-c083-4994-b7b6-77034eb7f1fd')\"\n",
              "              title=\"Convert this dataframe to an interactive table.\"\n",
              "              style=\"display:none;\">\n",
              "        \n",
              "  <svg xmlns=\"http://www.w3.org/2000/svg\" height=\"24px\"viewBox=\"0 0 24 24\"\n",
              "       width=\"24px\">\n",
              "    <path d=\"M0 0h24v24H0V0z\" fill=\"none\"/>\n",
              "    <path d=\"M18.56 5.44l.94 2.06.94-2.06 2.06-.94-2.06-.94-.94-2.06-.94 2.06-2.06.94zm-11 1L8.5 8.5l.94-2.06 2.06-.94-2.06-.94L8.5 2.5l-.94 2.06-2.06.94zm10 10l.94 2.06.94-2.06 2.06-.94-2.06-.94-.94-2.06-.94 2.06-2.06.94z\"/><path d=\"M17.41 7.96l-1.37-1.37c-.4-.4-.92-.59-1.43-.59-.52 0-1.04.2-1.43.59L10.3 9.45l-7.72 7.72c-.78.78-.78 2.05 0 2.83L4 21.41c.39.39.9.59 1.41.59.51 0 1.02-.2 1.41-.59l7.78-7.78 2.81-2.81c.8-.78.8-2.07 0-2.86zM5.41 20L4 18.59l7.72-7.72 1.47 1.35L5.41 20z\"/>\n",
              "  </svg>\n",
              "      </button>\n",
              "      \n",
              "  <style>\n",
              "    .colab-df-container {\n",
              "      display:flex;\n",
              "      flex-wrap:wrap;\n",
              "      gap: 12px;\n",
              "    }\n",
              "\n",
              "    .colab-df-convert {\n",
              "      background-color: #E8F0FE;\n",
              "      border: none;\n",
              "      border-radius: 50%;\n",
              "      cursor: pointer;\n",
              "      display: none;\n",
              "      fill: #1967D2;\n",
              "      height: 32px;\n",
              "      padding: 0 0 0 0;\n",
              "      width: 32px;\n",
              "    }\n",
              "\n",
              "    .colab-df-convert:hover {\n",
              "      background-color: #E2EBFA;\n",
              "      box-shadow: 0px 1px 2px rgba(60, 64, 67, 0.3), 0px 1px 3px 1px rgba(60, 64, 67, 0.15);\n",
              "      fill: #174EA6;\n",
              "    }\n",
              "\n",
              "    [theme=dark] .colab-df-convert {\n",
              "      background-color: #3B4455;\n",
              "      fill: #D2E3FC;\n",
              "    }\n",
              "\n",
              "    [theme=dark] .colab-df-convert:hover {\n",
              "      background-color: #434B5C;\n",
              "      box-shadow: 0px 1px 3px 1px rgba(0, 0, 0, 0.15);\n",
              "      filter: drop-shadow(0px 1px 2px rgba(0, 0, 0, 0.3));\n",
              "      fill: #FFFFFF;\n",
              "    }\n",
              "  </style>\n",
              "\n",
              "      <script>\n",
              "        const buttonEl =\n",
              "          document.querySelector('#df-109e3a1b-c083-4994-b7b6-77034eb7f1fd button.colab-df-convert');\n",
              "        buttonEl.style.display =\n",
              "          google.colab.kernel.accessAllowed ? 'block' : 'none';\n",
              "\n",
              "        async function convertToInteractive(key) {\n",
              "          const element = document.querySelector('#df-109e3a1b-c083-4994-b7b6-77034eb7f1fd');\n",
              "          const dataTable =\n",
              "            await google.colab.kernel.invokeFunction('convertToInteractive',\n",
              "                                                     [key], {});\n",
              "          if (!dataTable) return;\n",
              "\n",
              "          const docLinkHtml = 'Like what you see? Visit the ' +\n",
              "            '<a target=\"_blank\" href=https://colab.research.google.com/notebooks/data_table.ipynb>data table notebook</a>'\n",
              "            + ' to learn more about interactive tables.';\n",
              "          element.innerHTML = '';\n",
              "          dataTable['output_type'] = 'display_data';\n",
              "          await google.colab.output.renderOutput(dataTable, element);\n",
              "          const docLink = document.createElement('div');\n",
              "          docLink.innerHTML = docLinkHtml;\n",
              "          element.appendChild(docLink);\n",
              "        }\n",
              "      </script>\n",
              "    </div>\n",
              "  </div>\n",
              "  "
            ]
          },
          "metadata": {},
          "execution_count": 18
        }
      ],
      "source": [
        "#Diferente do que foi abordado no curso, obtive a base diretamente do Github da Alura\n",
        "import pandas as pd\n",
        "import requests\n",
        "import io\n",
        "import numpy as np\n",
        "\n",
        "uri = \"https://raw.githubusercontent.com/alura-cursos/ML_Classificacao_por_tras_dos_panos/main/Dados/Customer-Churn.csv\"\n",
        "\n",
        "    \n",
        "# Downloading the csv file from your GitHub account\n",
        "\n",
        "download = requests.get(uri).content\n",
        "\n",
        "raw_df = pd.read_csv(io.StringIO(download.decode('utf-8')))\n",
        "\n",
        "raw_df.head()"
      ]
    },
    {
      "cell_type": "code",
      "source": [
        "raw_df.shape"
      ],
      "metadata": {
        "colab": {
          "base_uri": "https://localhost:8080/"
        },
        "id": "KHGi9fxSyNWi",
        "outputId": "2580566c-21df-47d7-af87-22140fdb6920"
      },
      "execution_count": 3,
      "outputs": [
        {
          "output_type": "execute_result",
          "data": {
            "text/plain": [
              "(7043, 18)"
            ]
          },
          "metadata": {},
          "execution_count": 3
        }
      ]
    },
    {
      "cell_type": "code",
      "source": [
        "traducao_dic = {'Sim':1,\n",
        "                'Nao':0}\n",
        "\n",
        "\n",
        "df_modificado = raw_df[['Conjuge',\n",
        "                           'Dependentes',\n",
        "                           'TelefoneFixo',\n",
        "                           'PagamentoOnline',\n",
        "                           'Churn']].replace(traducao_dic)"
      ],
      "metadata": {
        "id": "-MFeseKPBqff"
      },
      "execution_count": 4,
      "outputs": []
    },
    {
      "cell_type": "code",
      "source": [
        "#Obtendo variaveis dummies através do get_dummies\n",
        "\n",
        "df_dummy = pd.get_dummies(raw_df.drop(columns=['Conjuge',\n",
        "                           'Dependentes',\n",
        "                           'TelefoneFixo',\n",
        "                           'PagamentoOnline',\n",
        "                           'Churn'], axis=1))"
      ],
      "metadata": {
        "id": "GgGt6tXCy2PW"
      },
      "execution_count": 5,
      "outputs": []
    },
    {
      "cell_type": "markdown",
      "source": [
        "Definição formal de um modelo:\n",
        "\n",
        "\n",
        "*   X: dados de entrada - inputs\n",
        "*   y: dados de saída - outputs\n",
        "\n",
        "\n"
      ],
      "metadata": {
        "id": "i6ul1Ouq9zMo"
      }
    },
    {
      "cell_type": "code",
      "source": [
        "pd.set_option('display.max_columns', 50)\n",
        "df = pd.concat([df_modificado, df_dummy], axis=1)\n",
        "df.head()"
      ],
      "metadata": {
        "colab": {
          "base_uri": "https://localhost:8080/",
          "height": 270
        },
        "id": "CBcrCmjz0yVZ",
        "outputId": "97815a7d-14ce-4c2f-bb4c-8dec9825d2f4"
      },
      "execution_count": 6,
      "outputs": [
        {
          "output_type": "execute_result",
          "data": {
            "text/plain": [
              "   Conjuge  Dependentes  TelefoneFixo  PagamentoOnline  Churn  Maior65Anos  \\\n",
              "0        1            0             0                1      0            0   \n",
              "1        0            0             1                0      0            0   \n",
              "2        0            0             1                1      1            0   \n",
              "3        0            0             0                0      0            0   \n",
              "4        0            0             1                1      1            0   \n",
              "\n",
              "   MesesDeContrato  ContaMensal  VariasLinhasTelefonicas_Nao  \\\n",
              "0                1        29.85                            0   \n",
              "1               34        56.95                            1   \n",
              "2                2        53.85                            1   \n",
              "3               45        42.30                            0   \n",
              "4                2        70.70                            1   \n",
              "\n",
              "   VariasLinhasTelefonicas_SemServicoTelefonico  VariasLinhasTelefonicas_Sim  \\\n",
              "0                                             1                            0   \n",
              "1                                             0                            0   \n",
              "2                                             0                            0   \n",
              "3                                             1                            0   \n",
              "4                                             0                            0   \n",
              "\n",
              "   ServicoDeInternet_DSL  ServicoDeInternet_FibraOptica  \\\n",
              "0                      1                              0   \n",
              "1                      1                              0   \n",
              "2                      1                              0   \n",
              "3                      1                              0   \n",
              "4                      0                              1   \n",
              "\n",
              "   ServicoDeInternet_Nao  SegurancaOnline_Nao  \\\n",
              "0                      0                    1   \n",
              "1                      0                    0   \n",
              "2                      0                    0   \n",
              "3                      0                    0   \n",
              "4                      0                    1   \n",
              "\n",
              "   SegurancaOnline_SemServicoDeInternet  SegurancaOnline_Sim  \\\n",
              "0                                     0                    0   \n",
              "1                                     0                    1   \n",
              "2                                     0                    1   \n",
              "3                                     0                    1   \n",
              "4                                     0                    0   \n",
              "\n",
              "   BackupOnline_Nao  BackupOnline_SemServicoDeInternet  BackupOnline_Sim  \\\n",
              "0                 0                                  0                 1   \n",
              "1                 1                                  0                 0   \n",
              "2                 0                                  0                 1   \n",
              "3                 1                                  0                 0   \n",
              "4                 1                                  0                 0   \n",
              "\n",
              "   SeguroNoDispositivo_Nao  SeguroNoDispositivo_SemServicoDeInternet  \\\n",
              "0                        1                                         0   \n",
              "1                        0                                         0   \n",
              "2                        1                                         0   \n",
              "3                        0                                         0   \n",
              "4                        1                                         0   \n",
              "\n",
              "   SeguroNoDispositivo_Sim  SuporteTecnico_Nao  \\\n",
              "0                        0                   1   \n",
              "1                        1                   1   \n",
              "2                        0                   1   \n",
              "3                        1                   0   \n",
              "4                        0                   1   \n",
              "\n",
              "   SuporteTecnico_SemServicoDeInternet  SuporteTecnico_Sim  TVaCabo_Nao  \\\n",
              "0                                    0                   0            1   \n",
              "1                                    0                   0            1   \n",
              "2                                    0                   0            1   \n",
              "3                                    0                   1            1   \n",
              "4                                    0                   0            1   \n",
              "\n",
              "   TVaCabo_SemServicoDeInternet  TVaCabo_Sim  StreamingDeFilmes_Nao  \\\n",
              "0                             0            0                      1   \n",
              "1                             0            0                      1   \n",
              "2                             0            0                      1   \n",
              "3                             0            0                      1   \n",
              "4                             0            0                      1   \n",
              "\n",
              "   StreamingDeFilmes_SemServicoDeInternet  StreamingDeFilmes_Sim  \\\n",
              "0                                       0                      0   \n",
              "1                                       0                      0   \n",
              "2                                       0                      0   \n",
              "3                                       0                      0   \n",
              "4                                       0                      0   \n",
              "\n",
              "   TipoDeContrato_DoisAnos  TipoDeContrato_Mensalmente  TipoDeContrato_UmAno  \\\n",
              "0                        0                           1                     0   \n",
              "1                        0                           0                     1   \n",
              "2                        0                           1                     0   \n",
              "3                        0                           0                     1   \n",
              "4                        0                           1                     0   \n",
              "\n",
              "   FormaDePagamento_CartaoDeCredito  FormaDePagamento_ChequeDigital  \\\n",
              "0                                 0                               1   \n",
              "1                                 0                               0   \n",
              "2                                 0                               0   \n",
              "3                                 0                               0   \n",
              "4                                 0                               1   \n",
              "\n",
              "   FormaDePagamento_ChequePapel  FormaDePagamento_DebitoEmConta  \n",
              "0                             0                               0  \n",
              "1                             1                               0  \n",
              "2                             1                               0  \n",
              "3                             0                               1  \n",
              "4                             0                               0  "
            ],
            "text/html": [
              "\n",
              "  <div id=\"df-144c7171-0f49-4574-96c2-1ef27666b349\">\n",
              "    <div class=\"colab-df-container\">\n",
              "      <div>\n",
              "<style scoped>\n",
              "    .dataframe tbody tr th:only-of-type {\n",
              "        vertical-align: middle;\n",
              "    }\n",
              "\n",
              "    .dataframe tbody tr th {\n",
              "        vertical-align: top;\n",
              "    }\n",
              "\n",
              "    .dataframe thead th {\n",
              "        text-align: right;\n",
              "    }\n",
              "</style>\n",
              "<table border=\"1\" class=\"dataframe\">\n",
              "  <thead>\n",
              "    <tr style=\"text-align: right;\">\n",
              "      <th></th>\n",
              "      <th>Conjuge</th>\n",
              "      <th>Dependentes</th>\n",
              "      <th>TelefoneFixo</th>\n",
              "      <th>PagamentoOnline</th>\n",
              "      <th>Churn</th>\n",
              "      <th>Maior65Anos</th>\n",
              "      <th>MesesDeContrato</th>\n",
              "      <th>ContaMensal</th>\n",
              "      <th>VariasLinhasTelefonicas_Nao</th>\n",
              "      <th>VariasLinhasTelefonicas_SemServicoTelefonico</th>\n",
              "      <th>VariasLinhasTelefonicas_Sim</th>\n",
              "      <th>ServicoDeInternet_DSL</th>\n",
              "      <th>ServicoDeInternet_FibraOptica</th>\n",
              "      <th>ServicoDeInternet_Nao</th>\n",
              "      <th>SegurancaOnline_Nao</th>\n",
              "      <th>SegurancaOnline_SemServicoDeInternet</th>\n",
              "      <th>SegurancaOnline_Sim</th>\n",
              "      <th>BackupOnline_Nao</th>\n",
              "      <th>BackupOnline_SemServicoDeInternet</th>\n",
              "      <th>BackupOnline_Sim</th>\n",
              "      <th>SeguroNoDispositivo_Nao</th>\n",
              "      <th>SeguroNoDispositivo_SemServicoDeInternet</th>\n",
              "      <th>SeguroNoDispositivo_Sim</th>\n",
              "      <th>SuporteTecnico_Nao</th>\n",
              "      <th>SuporteTecnico_SemServicoDeInternet</th>\n",
              "      <th>SuporteTecnico_Sim</th>\n",
              "      <th>TVaCabo_Nao</th>\n",
              "      <th>TVaCabo_SemServicoDeInternet</th>\n",
              "      <th>TVaCabo_Sim</th>\n",
              "      <th>StreamingDeFilmes_Nao</th>\n",
              "      <th>StreamingDeFilmes_SemServicoDeInternet</th>\n",
              "      <th>StreamingDeFilmes_Sim</th>\n",
              "      <th>TipoDeContrato_DoisAnos</th>\n",
              "      <th>TipoDeContrato_Mensalmente</th>\n",
              "      <th>TipoDeContrato_UmAno</th>\n",
              "      <th>FormaDePagamento_CartaoDeCredito</th>\n",
              "      <th>FormaDePagamento_ChequeDigital</th>\n",
              "      <th>FormaDePagamento_ChequePapel</th>\n",
              "      <th>FormaDePagamento_DebitoEmConta</th>\n",
              "    </tr>\n",
              "  </thead>\n",
              "  <tbody>\n",
              "    <tr>\n",
              "      <th>0</th>\n",
              "      <td>1</td>\n",
              "      <td>0</td>\n",
              "      <td>0</td>\n",
              "      <td>1</td>\n",
              "      <td>0</td>\n",
              "      <td>0</td>\n",
              "      <td>1</td>\n",
              "      <td>29.85</td>\n",
              "      <td>0</td>\n",
              "      <td>1</td>\n",
              "      <td>0</td>\n",
              "      <td>1</td>\n",
              "      <td>0</td>\n",
              "      <td>0</td>\n",
              "      <td>1</td>\n",
              "      <td>0</td>\n",
              "      <td>0</td>\n",
              "      <td>0</td>\n",
              "      <td>0</td>\n",
              "      <td>1</td>\n",
              "      <td>1</td>\n",
              "      <td>0</td>\n",
              "      <td>0</td>\n",
              "      <td>1</td>\n",
              "      <td>0</td>\n",
              "      <td>0</td>\n",
              "      <td>1</td>\n",
              "      <td>0</td>\n",
              "      <td>0</td>\n",
              "      <td>1</td>\n",
              "      <td>0</td>\n",
              "      <td>0</td>\n",
              "      <td>0</td>\n",
              "      <td>1</td>\n",
              "      <td>0</td>\n",
              "      <td>0</td>\n",
              "      <td>1</td>\n",
              "      <td>0</td>\n",
              "      <td>0</td>\n",
              "    </tr>\n",
              "    <tr>\n",
              "      <th>1</th>\n",
              "      <td>0</td>\n",
              "      <td>0</td>\n",
              "      <td>1</td>\n",
              "      <td>0</td>\n",
              "      <td>0</td>\n",
              "      <td>0</td>\n",
              "      <td>34</td>\n",
              "      <td>56.95</td>\n",
              "      <td>1</td>\n",
              "      <td>0</td>\n",
              "      <td>0</td>\n",
              "      <td>1</td>\n",
              "      <td>0</td>\n",
              "      <td>0</td>\n",
              "      <td>0</td>\n",
              "      <td>0</td>\n",
              "      <td>1</td>\n",
              "      <td>1</td>\n",
              "      <td>0</td>\n",
              "      <td>0</td>\n",
              "      <td>0</td>\n",
              "      <td>0</td>\n",
              "      <td>1</td>\n",
              "      <td>1</td>\n",
              "      <td>0</td>\n",
              "      <td>0</td>\n",
              "      <td>1</td>\n",
              "      <td>0</td>\n",
              "      <td>0</td>\n",
              "      <td>1</td>\n",
              "      <td>0</td>\n",
              "      <td>0</td>\n",
              "      <td>0</td>\n",
              "      <td>0</td>\n",
              "      <td>1</td>\n",
              "      <td>0</td>\n",
              "      <td>0</td>\n",
              "      <td>1</td>\n",
              "      <td>0</td>\n",
              "    </tr>\n",
              "    <tr>\n",
              "      <th>2</th>\n",
              "      <td>0</td>\n",
              "      <td>0</td>\n",
              "      <td>1</td>\n",
              "      <td>1</td>\n",
              "      <td>1</td>\n",
              "      <td>0</td>\n",
              "      <td>2</td>\n",
              "      <td>53.85</td>\n",
              "      <td>1</td>\n",
              "      <td>0</td>\n",
              "      <td>0</td>\n",
              "      <td>1</td>\n",
              "      <td>0</td>\n",
              "      <td>0</td>\n",
              "      <td>0</td>\n",
              "      <td>0</td>\n",
              "      <td>1</td>\n",
              "      <td>0</td>\n",
              "      <td>0</td>\n",
              "      <td>1</td>\n",
              "      <td>1</td>\n",
              "      <td>0</td>\n",
              "      <td>0</td>\n",
              "      <td>1</td>\n",
              "      <td>0</td>\n",
              "      <td>0</td>\n",
              "      <td>1</td>\n",
              "      <td>0</td>\n",
              "      <td>0</td>\n",
              "      <td>1</td>\n",
              "      <td>0</td>\n",
              "      <td>0</td>\n",
              "      <td>0</td>\n",
              "      <td>1</td>\n",
              "      <td>0</td>\n",
              "      <td>0</td>\n",
              "      <td>0</td>\n",
              "      <td>1</td>\n",
              "      <td>0</td>\n",
              "    </tr>\n",
              "    <tr>\n",
              "      <th>3</th>\n",
              "      <td>0</td>\n",
              "      <td>0</td>\n",
              "      <td>0</td>\n",
              "      <td>0</td>\n",
              "      <td>0</td>\n",
              "      <td>0</td>\n",
              "      <td>45</td>\n",
              "      <td>42.30</td>\n",
              "      <td>0</td>\n",
              "      <td>1</td>\n",
              "      <td>0</td>\n",
              "      <td>1</td>\n",
              "      <td>0</td>\n",
              "      <td>0</td>\n",
              "      <td>0</td>\n",
              "      <td>0</td>\n",
              "      <td>1</td>\n",
              "      <td>1</td>\n",
              "      <td>0</td>\n",
              "      <td>0</td>\n",
              "      <td>0</td>\n",
              "      <td>0</td>\n",
              "      <td>1</td>\n",
              "      <td>0</td>\n",
              "      <td>0</td>\n",
              "      <td>1</td>\n",
              "      <td>1</td>\n",
              "      <td>0</td>\n",
              "      <td>0</td>\n",
              "      <td>1</td>\n",
              "      <td>0</td>\n",
              "      <td>0</td>\n",
              "      <td>0</td>\n",
              "      <td>0</td>\n",
              "      <td>1</td>\n",
              "      <td>0</td>\n",
              "      <td>0</td>\n",
              "      <td>0</td>\n",
              "      <td>1</td>\n",
              "    </tr>\n",
              "    <tr>\n",
              "      <th>4</th>\n",
              "      <td>0</td>\n",
              "      <td>0</td>\n",
              "      <td>1</td>\n",
              "      <td>1</td>\n",
              "      <td>1</td>\n",
              "      <td>0</td>\n",
              "      <td>2</td>\n",
              "      <td>70.70</td>\n",
              "      <td>1</td>\n",
              "      <td>0</td>\n",
              "      <td>0</td>\n",
              "      <td>0</td>\n",
              "      <td>1</td>\n",
              "      <td>0</td>\n",
              "      <td>1</td>\n",
              "      <td>0</td>\n",
              "      <td>0</td>\n",
              "      <td>1</td>\n",
              "      <td>0</td>\n",
              "      <td>0</td>\n",
              "      <td>1</td>\n",
              "      <td>0</td>\n",
              "      <td>0</td>\n",
              "      <td>1</td>\n",
              "      <td>0</td>\n",
              "      <td>0</td>\n",
              "      <td>1</td>\n",
              "      <td>0</td>\n",
              "      <td>0</td>\n",
              "      <td>1</td>\n",
              "      <td>0</td>\n",
              "      <td>0</td>\n",
              "      <td>0</td>\n",
              "      <td>1</td>\n",
              "      <td>0</td>\n",
              "      <td>0</td>\n",
              "      <td>1</td>\n",
              "      <td>0</td>\n",
              "      <td>0</td>\n",
              "    </tr>\n",
              "  </tbody>\n",
              "</table>\n",
              "</div>\n",
              "      <button class=\"colab-df-convert\" onclick=\"convertToInteractive('df-144c7171-0f49-4574-96c2-1ef27666b349')\"\n",
              "              title=\"Convert this dataframe to an interactive table.\"\n",
              "              style=\"display:none;\">\n",
              "        \n",
              "  <svg xmlns=\"http://www.w3.org/2000/svg\" height=\"24px\"viewBox=\"0 0 24 24\"\n",
              "       width=\"24px\">\n",
              "    <path d=\"M0 0h24v24H0V0z\" fill=\"none\"/>\n",
              "    <path d=\"M18.56 5.44l.94 2.06.94-2.06 2.06-.94-2.06-.94-.94-2.06-.94 2.06-2.06.94zm-11 1L8.5 8.5l.94-2.06 2.06-.94-2.06-.94L8.5 2.5l-.94 2.06-2.06.94zm10 10l.94 2.06.94-2.06 2.06-.94-2.06-.94-.94-2.06-.94 2.06-2.06.94z\"/><path d=\"M17.41 7.96l-1.37-1.37c-.4-.4-.92-.59-1.43-.59-.52 0-1.04.2-1.43.59L10.3 9.45l-7.72 7.72c-.78.78-.78 2.05 0 2.83L4 21.41c.39.39.9.59 1.41.59.51 0 1.02-.2 1.41-.59l7.78-7.78 2.81-2.81c.8-.78.8-2.07 0-2.86zM5.41 20L4 18.59l7.72-7.72 1.47 1.35L5.41 20z\"/>\n",
              "  </svg>\n",
              "      </button>\n",
              "      \n",
              "  <style>\n",
              "    .colab-df-container {\n",
              "      display:flex;\n",
              "      flex-wrap:wrap;\n",
              "      gap: 12px;\n",
              "    }\n",
              "\n",
              "    .colab-df-convert {\n",
              "      background-color: #E8F0FE;\n",
              "      border: none;\n",
              "      border-radius: 50%;\n",
              "      cursor: pointer;\n",
              "      display: none;\n",
              "      fill: #1967D2;\n",
              "      height: 32px;\n",
              "      padding: 0 0 0 0;\n",
              "      width: 32px;\n",
              "    }\n",
              "\n",
              "    .colab-df-convert:hover {\n",
              "      background-color: #E2EBFA;\n",
              "      box-shadow: 0px 1px 2px rgba(60, 64, 67, 0.3), 0px 1px 3px 1px rgba(60, 64, 67, 0.15);\n",
              "      fill: #174EA6;\n",
              "    }\n",
              "\n",
              "    [theme=dark] .colab-df-convert {\n",
              "      background-color: #3B4455;\n",
              "      fill: #D2E3FC;\n",
              "    }\n",
              "\n",
              "    [theme=dark] .colab-df-convert:hover {\n",
              "      background-color: #434B5C;\n",
              "      box-shadow: 0px 1px 3px 1px rgba(0, 0, 0, 0.15);\n",
              "      filter: drop-shadow(0px 1px 2px rgba(0, 0, 0, 0.3));\n",
              "      fill: #FFFFFF;\n",
              "    }\n",
              "  </style>\n",
              "\n",
              "      <script>\n",
              "        const buttonEl =\n",
              "          document.querySelector('#df-144c7171-0f49-4574-96c2-1ef27666b349 button.colab-df-convert');\n",
              "        buttonEl.style.display =\n",
              "          google.colab.kernel.accessAllowed ? 'block' : 'none';\n",
              "\n",
              "        async function convertToInteractive(key) {\n",
              "          const element = document.querySelector('#df-144c7171-0f49-4574-96c2-1ef27666b349');\n",
              "          const dataTable =\n",
              "            await google.colab.kernel.invokeFunction('convertToInteractive',\n",
              "                                                     [key], {});\n",
              "          if (!dataTable) return;\n",
              "\n",
              "          const docLinkHtml = 'Like what you see? Visit the ' +\n",
              "            '<a target=\"_blank\" href=https://colab.research.google.com/notebooks/data_table.ipynb>data table notebook</a>'\n",
              "            + ' to learn more about interactive tables.';\n",
              "          element.innerHTML = '';\n",
              "          dataTable['output_type'] = 'display_data';\n",
              "          await google.colab.output.renderOutput(dataTable, element);\n",
              "          const docLink = document.createElement('div');\n",
              "          docLink.innerHTML = docLinkHtml;\n",
              "          element.appendChild(docLink);\n",
              "        }\n",
              "      </script>\n",
              "    </div>\n",
              "  </div>\n",
              "  "
            ]
          },
          "metadata": {},
          "execution_count": 6
        }
      ]
    },
    {
      "cell_type": "markdown",
      "source": [
        "### Balanceamento de Variáveis"
      ],
      "metadata": {
        "id": "Z8dO5WVsAPki"
      }
    },
    {
      "cell_type": "markdown",
      "source": [
        "*   Variaveis desbalanceadas são variáveis que \n",
        "apresentam quantidades bastante diferentes entre suas categorias.</b>\n",
        "*   Oversampling é uma técnica que busca corrigir este efeito. Ela realiza a criação de novas observações da classe quando há menos amostras, igualando a proporção de categorias.</b>\n",
        "*   Tecnica de Oversampling utilizada nesta etapa será a **SMOTE** que consiste em criar observações intermediárias entre os dados que estão próximos."
      ],
      "metadata": {
        "id": "L-x-AbSTAWLI"
      }
    },
    {
      "cell_type": "code",
      "source": [
        "# Para podermos aplicar o SMOTE, devemos separar  os dados em variáveis características e resposta  \n",
        "\n",
        "X = df.drop('Churn', axis = 1)\n",
        "y = df['Churn']"
      ],
      "metadata": {
        "id": "6mbe9hqIBEb8"
      },
      "execution_count": 7,
      "outputs": []
    },
    {
      "cell_type": "code",
      "source": [
        "from imblearn.over_sampling import SMOTE\n",
        "\n",
        "smt = SMOTE(random_state=123)  # Instancia um objeto da classe SMOTE\n",
        "X, y = smt.fit_resample(X, y)  # Realiza a reamostragem do conjunto de dados"
      ],
      "metadata": {
        "id": "-Uw86lT4BXZw"
      },
      "execution_count": 8,
      "outputs": []
    },
    {
      "cell_type": "code",
      "source": [
        "df = pd.concat([X, y], axis=1)  # Concatena a variável target (y) com as features (X)\n",
        "\n",
        "# Verifica se o balanceamento e a concatenação estão corretos.\n",
        "df.head(2)"
      ],
      "metadata": {
        "colab": {
          "base_uri": "https://localhost:8080/",
          "height": 176
        },
        "id": "WgJbXmhcBZV3",
        "outputId": "1426afd1-34c5-45bb-b9f4-365d682614a1"
      },
      "execution_count": 9,
      "outputs": [
        {
          "output_type": "execute_result",
          "data": {
            "text/plain": [
              "   Conjuge  Dependentes  TelefoneFixo  PagamentoOnline  Maior65Anos  \\\n",
              "0        1            0             0                1            0   \n",
              "1        0            0             1                0            0   \n",
              "\n",
              "   MesesDeContrato  ContaMensal  VariasLinhasTelefonicas_Nao  \\\n",
              "0                1        29.85                            0   \n",
              "1               34        56.95                            1   \n",
              "\n",
              "   VariasLinhasTelefonicas_SemServicoTelefonico  VariasLinhasTelefonicas_Sim  \\\n",
              "0                                             1                            0   \n",
              "1                                             0                            0   \n",
              "\n",
              "   ServicoDeInternet_DSL  ServicoDeInternet_FibraOptica  \\\n",
              "0                      1                              0   \n",
              "1                      1                              0   \n",
              "\n",
              "   ServicoDeInternet_Nao  SegurancaOnline_Nao  \\\n",
              "0                      0                    1   \n",
              "1                      0                    0   \n",
              "\n",
              "   SegurancaOnline_SemServicoDeInternet  SegurancaOnline_Sim  \\\n",
              "0                                     0                    0   \n",
              "1                                     0                    1   \n",
              "\n",
              "   BackupOnline_Nao  BackupOnline_SemServicoDeInternet  BackupOnline_Sim  \\\n",
              "0                 0                                  0                 1   \n",
              "1                 1                                  0                 0   \n",
              "\n",
              "   SeguroNoDispositivo_Nao  SeguroNoDispositivo_SemServicoDeInternet  \\\n",
              "0                        1                                         0   \n",
              "1                        0                                         0   \n",
              "\n",
              "   SeguroNoDispositivo_Sim  SuporteTecnico_Nao  \\\n",
              "0                        0                   1   \n",
              "1                        1                   1   \n",
              "\n",
              "   SuporteTecnico_SemServicoDeInternet  SuporteTecnico_Sim  TVaCabo_Nao  \\\n",
              "0                                    0                   0            1   \n",
              "1                                    0                   0            1   \n",
              "\n",
              "   TVaCabo_SemServicoDeInternet  TVaCabo_Sim  StreamingDeFilmes_Nao  \\\n",
              "0                             0            0                      1   \n",
              "1                             0            0                      1   \n",
              "\n",
              "   StreamingDeFilmes_SemServicoDeInternet  StreamingDeFilmes_Sim  \\\n",
              "0                                       0                      0   \n",
              "1                                       0                      0   \n",
              "\n",
              "   TipoDeContrato_DoisAnos  TipoDeContrato_Mensalmente  TipoDeContrato_UmAno  \\\n",
              "0                        0                           1                     0   \n",
              "1                        0                           0                     1   \n",
              "\n",
              "   FormaDePagamento_CartaoDeCredito  FormaDePagamento_ChequeDigital  \\\n",
              "0                                 0                               1   \n",
              "1                                 0                               0   \n",
              "\n",
              "   FormaDePagamento_ChequePapel  FormaDePagamento_DebitoEmConta  Churn  \n",
              "0                             0                               0      0  \n",
              "1                             1                               0      0  "
            ],
            "text/html": [
              "\n",
              "  <div id=\"df-2b9db8d1-4a18-4dc2-b3e5-3d147547cb5e\">\n",
              "    <div class=\"colab-df-container\">\n",
              "      <div>\n",
              "<style scoped>\n",
              "    .dataframe tbody tr th:only-of-type {\n",
              "        vertical-align: middle;\n",
              "    }\n",
              "\n",
              "    .dataframe tbody tr th {\n",
              "        vertical-align: top;\n",
              "    }\n",
              "\n",
              "    .dataframe thead th {\n",
              "        text-align: right;\n",
              "    }\n",
              "</style>\n",
              "<table border=\"1\" class=\"dataframe\">\n",
              "  <thead>\n",
              "    <tr style=\"text-align: right;\">\n",
              "      <th></th>\n",
              "      <th>Conjuge</th>\n",
              "      <th>Dependentes</th>\n",
              "      <th>TelefoneFixo</th>\n",
              "      <th>PagamentoOnline</th>\n",
              "      <th>Maior65Anos</th>\n",
              "      <th>MesesDeContrato</th>\n",
              "      <th>ContaMensal</th>\n",
              "      <th>VariasLinhasTelefonicas_Nao</th>\n",
              "      <th>VariasLinhasTelefonicas_SemServicoTelefonico</th>\n",
              "      <th>VariasLinhasTelefonicas_Sim</th>\n",
              "      <th>ServicoDeInternet_DSL</th>\n",
              "      <th>ServicoDeInternet_FibraOptica</th>\n",
              "      <th>ServicoDeInternet_Nao</th>\n",
              "      <th>SegurancaOnline_Nao</th>\n",
              "      <th>SegurancaOnline_SemServicoDeInternet</th>\n",
              "      <th>SegurancaOnline_Sim</th>\n",
              "      <th>BackupOnline_Nao</th>\n",
              "      <th>BackupOnline_SemServicoDeInternet</th>\n",
              "      <th>BackupOnline_Sim</th>\n",
              "      <th>SeguroNoDispositivo_Nao</th>\n",
              "      <th>SeguroNoDispositivo_SemServicoDeInternet</th>\n",
              "      <th>SeguroNoDispositivo_Sim</th>\n",
              "      <th>SuporteTecnico_Nao</th>\n",
              "      <th>SuporteTecnico_SemServicoDeInternet</th>\n",
              "      <th>SuporteTecnico_Sim</th>\n",
              "      <th>TVaCabo_Nao</th>\n",
              "      <th>TVaCabo_SemServicoDeInternet</th>\n",
              "      <th>TVaCabo_Sim</th>\n",
              "      <th>StreamingDeFilmes_Nao</th>\n",
              "      <th>StreamingDeFilmes_SemServicoDeInternet</th>\n",
              "      <th>StreamingDeFilmes_Sim</th>\n",
              "      <th>TipoDeContrato_DoisAnos</th>\n",
              "      <th>TipoDeContrato_Mensalmente</th>\n",
              "      <th>TipoDeContrato_UmAno</th>\n",
              "      <th>FormaDePagamento_CartaoDeCredito</th>\n",
              "      <th>FormaDePagamento_ChequeDigital</th>\n",
              "      <th>FormaDePagamento_ChequePapel</th>\n",
              "      <th>FormaDePagamento_DebitoEmConta</th>\n",
              "      <th>Churn</th>\n",
              "    </tr>\n",
              "  </thead>\n",
              "  <tbody>\n",
              "    <tr>\n",
              "      <th>0</th>\n",
              "      <td>1</td>\n",
              "      <td>0</td>\n",
              "      <td>0</td>\n",
              "      <td>1</td>\n",
              "      <td>0</td>\n",
              "      <td>1</td>\n",
              "      <td>29.85</td>\n",
              "      <td>0</td>\n",
              "      <td>1</td>\n",
              "      <td>0</td>\n",
              "      <td>1</td>\n",
              "      <td>0</td>\n",
              "      <td>0</td>\n",
              "      <td>1</td>\n",
              "      <td>0</td>\n",
              "      <td>0</td>\n",
              "      <td>0</td>\n",
              "      <td>0</td>\n",
              "      <td>1</td>\n",
              "      <td>1</td>\n",
              "      <td>0</td>\n",
              "      <td>0</td>\n",
              "      <td>1</td>\n",
              "      <td>0</td>\n",
              "      <td>0</td>\n",
              "      <td>1</td>\n",
              "      <td>0</td>\n",
              "      <td>0</td>\n",
              "      <td>1</td>\n",
              "      <td>0</td>\n",
              "      <td>0</td>\n",
              "      <td>0</td>\n",
              "      <td>1</td>\n",
              "      <td>0</td>\n",
              "      <td>0</td>\n",
              "      <td>1</td>\n",
              "      <td>0</td>\n",
              "      <td>0</td>\n",
              "      <td>0</td>\n",
              "    </tr>\n",
              "    <tr>\n",
              "      <th>1</th>\n",
              "      <td>0</td>\n",
              "      <td>0</td>\n",
              "      <td>1</td>\n",
              "      <td>0</td>\n",
              "      <td>0</td>\n",
              "      <td>34</td>\n",
              "      <td>56.95</td>\n",
              "      <td>1</td>\n",
              "      <td>0</td>\n",
              "      <td>0</td>\n",
              "      <td>1</td>\n",
              "      <td>0</td>\n",
              "      <td>0</td>\n",
              "      <td>0</td>\n",
              "      <td>0</td>\n",
              "      <td>1</td>\n",
              "      <td>1</td>\n",
              "      <td>0</td>\n",
              "      <td>0</td>\n",
              "      <td>0</td>\n",
              "      <td>0</td>\n",
              "      <td>1</td>\n",
              "      <td>1</td>\n",
              "      <td>0</td>\n",
              "      <td>0</td>\n",
              "      <td>1</td>\n",
              "      <td>0</td>\n",
              "      <td>0</td>\n",
              "      <td>1</td>\n",
              "      <td>0</td>\n",
              "      <td>0</td>\n",
              "      <td>0</td>\n",
              "      <td>0</td>\n",
              "      <td>1</td>\n",
              "      <td>0</td>\n",
              "      <td>0</td>\n",
              "      <td>1</td>\n",
              "      <td>0</td>\n",
              "      <td>0</td>\n",
              "    </tr>\n",
              "  </tbody>\n",
              "</table>\n",
              "</div>\n",
              "      <button class=\"colab-df-convert\" onclick=\"convertToInteractive('df-2b9db8d1-4a18-4dc2-b3e5-3d147547cb5e')\"\n",
              "              title=\"Convert this dataframe to an interactive table.\"\n",
              "              style=\"display:none;\">\n",
              "        \n",
              "  <svg xmlns=\"http://www.w3.org/2000/svg\" height=\"24px\"viewBox=\"0 0 24 24\"\n",
              "       width=\"24px\">\n",
              "    <path d=\"M0 0h24v24H0V0z\" fill=\"none\"/>\n",
              "    <path d=\"M18.56 5.44l.94 2.06.94-2.06 2.06-.94-2.06-.94-.94-2.06-.94 2.06-2.06.94zm-11 1L8.5 8.5l.94-2.06 2.06-.94-2.06-.94L8.5 2.5l-.94 2.06-2.06.94zm10 10l.94 2.06.94-2.06 2.06-.94-2.06-.94-.94-2.06-.94 2.06-2.06.94z\"/><path d=\"M17.41 7.96l-1.37-1.37c-.4-.4-.92-.59-1.43-.59-.52 0-1.04.2-1.43.59L10.3 9.45l-7.72 7.72c-.78.78-.78 2.05 0 2.83L4 21.41c.39.39.9.59 1.41.59.51 0 1.02-.2 1.41-.59l7.78-7.78 2.81-2.81c.8-.78.8-2.07 0-2.86zM5.41 20L4 18.59l7.72-7.72 1.47 1.35L5.41 20z\"/>\n",
              "  </svg>\n",
              "      </button>\n",
              "      \n",
              "  <style>\n",
              "    .colab-df-container {\n",
              "      display:flex;\n",
              "      flex-wrap:wrap;\n",
              "      gap: 12px;\n",
              "    }\n",
              "\n",
              "    .colab-df-convert {\n",
              "      background-color: #E8F0FE;\n",
              "      border: none;\n",
              "      border-radius: 50%;\n",
              "      cursor: pointer;\n",
              "      display: none;\n",
              "      fill: #1967D2;\n",
              "      height: 32px;\n",
              "      padding: 0 0 0 0;\n",
              "      width: 32px;\n",
              "    }\n",
              "\n",
              "    .colab-df-convert:hover {\n",
              "      background-color: #E2EBFA;\n",
              "      box-shadow: 0px 1px 2px rgba(60, 64, 67, 0.3), 0px 1px 3px 1px rgba(60, 64, 67, 0.15);\n",
              "      fill: #174EA6;\n",
              "    }\n",
              "\n",
              "    [theme=dark] .colab-df-convert {\n",
              "      background-color: #3B4455;\n",
              "      fill: #D2E3FC;\n",
              "    }\n",
              "\n",
              "    [theme=dark] .colab-df-convert:hover {\n",
              "      background-color: #434B5C;\n",
              "      box-shadow: 0px 1px 3px 1px rgba(0, 0, 0, 0.15);\n",
              "      filter: drop-shadow(0px 1px 2px rgba(0, 0, 0, 0.3));\n",
              "      fill: #FFFFFF;\n",
              "    }\n",
              "  </style>\n",
              "\n",
              "      <script>\n",
              "        const buttonEl =\n",
              "          document.querySelector('#df-2b9db8d1-4a18-4dc2-b3e5-3d147547cb5e button.colab-df-convert');\n",
              "        buttonEl.style.display =\n",
              "          google.colab.kernel.accessAllowed ? 'block' : 'none';\n",
              "\n",
              "        async function convertToInteractive(key) {\n",
              "          const element = document.querySelector('#df-2b9db8d1-4a18-4dc2-b3e5-3d147547cb5e');\n",
              "          const dataTable =\n",
              "            await google.colab.kernel.invokeFunction('convertToInteractive',\n",
              "                                                     [key], {});\n",
              "          if (!dataTable) return;\n",
              "\n",
              "          const docLinkHtml = 'Like what you see? Visit the ' +\n",
              "            '<a target=\"_blank\" href=https://colab.research.google.com/notebooks/data_table.ipynb>data table notebook</a>'\n",
              "            + ' to learn more about interactive tables.';\n",
              "          element.innerHTML = '';\n",
              "          dataTable['output_type'] = 'display_data';\n",
              "          await google.colab.output.renderOutput(dataTable, element);\n",
              "          const docLink = document.createElement('div');\n",
              "          docLink.innerHTML = docLinkHtml;\n",
              "          element.appendChild(docLink);\n",
              "        }\n",
              "      </script>\n",
              "    </div>\n",
              "  </div>\n",
              "  "
            ]
          },
          "metadata": {},
          "execution_count": 9
        }
      ]
    },
    {
      "cell_type": "code",
      "source": [
        "import seaborn as sns\n",
        "\n",
        "ax = sns.countplot(x='Churn', data=df)  # plotando a variável target balanceada."
      ],
      "metadata": {
        "colab": {
          "base_uri": "https://localhost:8080/",
          "height": 279
        },
        "id": "xdAkWnWDBdZT",
        "outputId": "11f38092-c2ba-42b1-f825-07ac831af951"
      },
      "execution_count": 10,
      "outputs": [
        {
          "output_type": "display_data",
          "data": {
            "text/plain": [
              "<Figure size 432x288 with 1 Axes>"
            ],
            "image/png": "[encoded data removed]"
          },
          "metadata": {
            "needs_background": "light"
          }
        }
      ]
    },
    {
      "cell_type": "markdown",
      "source": [
        "## Modelo de Classificação KNN"
      ],
      "metadata": {
        "id": "6d0H4e9JDyT_"
      }
    },
    {
      "cell_type": "markdown",
      "source": [
        "*    Modelo de classificação baseado na próximidade\n",
        "*    Calcula a distancia entre os outputs (pontos cartesianos) a partir de um número K (especificado) de vizinhos mais próximos\n",
        "*    Agrupa os pontos com menor distancia a partir dos K vizinhos mais próximos\n",
        "*    Classificados com base nas suas características de inputs"
      ],
      "metadata": {
        "id": "I3xy4OV4D4gG"
      }
    },
    {
      "cell_type": "markdown",
      "source": [
        "*    K pequeno >> overfitting\n",
        "*    K muito grande >> underfitting"
      ],
      "metadata": {
        "id": "2uRCjixsFfKt"
      }
    },
    {
      "cell_type": "code",
      "source": [
        "#inputs e outputs\n",
        "X = df.drop('Churn', axis = 1)\n",
        "y = df['Churn']"
      ],
      "metadata": {
        "id": "boiZYxYXD0Rc"
      },
      "execution_count": 11,
      "outputs": []
    },
    {
      "cell_type": "code",
      "source": [
        "from sklearn.preprocessing import StandardScaler\n",
        "\n",
        "norm = StandardScaler()\n",
        "\n",
        "X_norm = norm.fit_transform(X)\n",
        "X_norm"
      ],
      "metadata": {
        "colab": {
          "base_uri": "https://localhost:8080/"
        },
        "id": "T6QeYrLzF5fh",
        "outputId": "7bcd6be0-95a4-487d-8559-3670a2dc18f9"
      },
      "execution_count": 12,
      "outputs": [
        {
          "output_type": "execute_result",
          "data": {
            "text/plain": [
              "array([[ 1.26542767, -0.52756038, -3.06083934, ...,  1.30292044,\n",
              "        -0.47943196, -0.43617215],\n",
              "       [-0.79024667, -0.52756038,  0.32670777, ..., -0.76750657,\n",
              "         2.08580171, -0.43617215],\n",
              "       [-0.79024667, -0.52756038,  0.32670777, ..., -0.76750657,\n",
              "         2.08580171, -0.43617215],\n",
              "       ...,\n",
              "       [-0.79024667, -0.52756038,  0.32670777, ...,  1.30292044,\n",
              "        -0.47943196, -0.43617215],\n",
              "       [-0.79024667, -0.52756038,  0.32670777, ..., -0.76750657,\n",
              "        -0.47943196, -0.43617215],\n",
              "       [-0.79024667, -0.52756038,  0.32670777, ..., -0.76750657,\n",
              "        -0.47943196, -0.43617215]])"
            ]
          },
          "metadata": {},
          "execution_count": 12
        }
      ]
    },
    {
      "cell_type": "markdown",
      "source": [
        "Funções de distância:\n",
        "* Euclidiana: subtração das coordenadas de uma observação pela outra observação, elevando ao quadrado os resultados. Soma-se os valores e extrai a raíz quadrada\n",
        "* Manhattan: Considera apenas a soma dos módulos das diferenças entre cada par de coordenadas\n",
        "* Minkowski: \n",
        " * Generalização das outras\n",
        " * Extrair o módulo da diferença entre cada par de coordenadas elevando oresultado a m, realiza a soma de todos os termos e, por fim, tra a raiz m-ésima, em que m é um número qualquer.\n",
        " * A Euclidiana é uma Minkowski de m = 2\n",
        "* Chebyshev: Considera apenas o valor máximo entre os módulos das diferenças entre as variáveis.\n",
        " * Leva em consideração apenas a variável que possui a maior diferença de valores entre as duas observações"
      ],
      "metadata": {
        "id": "cqgnCe71IR-O"
      }
    },
    {
      "cell_type": "markdown",
      "source": [
        "No sklearn\n",
        " *   “euclidean” para a distância euclidiana;\n",
        " *   “manhattan” para a distância de Manhattan;\n",
        " *   “minkowski” para a distância de Minkowski;\n",
        " *   “chebyshev” para a distância de Chebyshev."
      ],
      "metadata": {
        "id": "OMdn12HBJaF3"
      }
    },
    {
      "cell_type": "markdown",
      "source": [
        "### Divisao treino/teste"
      ],
      "metadata": {
        "id": "GD7zAN8UJrlk"
      }
    },
    {
      "cell_type": "code",
      "source": [
        "from sklearn.model_selection import train_test_split\n",
        "\n",
        "X_train, X_test, y_train, y_test = train_test_split(X_norm, y, \n",
        "                                                    test_size = 0.3, \n",
        "                                                    random_state = 123)"
      ],
      "metadata": {
        "id": "Nspcfkv8GoAn"
      },
      "execution_count": 13,
      "outputs": []
    },
    {
      "cell_type": "markdown",
      "source": [
        "### KNN Model"
      ],
      "metadata": {
        "id": "v1ALPl0rKERI"
      }
    },
    {
      "cell_type": "code",
      "source": [
        "from sklearn.neighbors import KNeighborsClassifier\n",
        "\n",
        "knn = KNeighborsClassifier(metric='euclidean')\n",
        "\n",
        "#model fit\n",
        "\n",
        "knn.fit(X_train, y_train)"
      ],
      "metadata": {
        "colab": {
          "base_uri": "https://localhost:8080/"
        },
        "id": "pXbkDlrpKCmt",
        "outputId": "4d463930-91c0-4743-ab0d-9f954f926722"
      },
      "execution_count": 14,
      "outputs": [
        {
          "output_type": "execute_result",
          "data": {
            "text/plain": [
              "KNeighborsClassifier(metric='euclidean')"
            ]
          },
          "metadata": {},
          "execution_count": 14
        }
      ]
    },
    {
      "cell_type": "code",
      "source": [
        "predict_knn = knn.predict(X_test)\n",
        "predict_knn"
      ],
      "metadata": {
        "colab": {
          "base_uri": "https://localhost:8080/"
        },
        "id": "EZwVorAUKTAv",
        "outputId": "165d8663-af2b-4587-c443-d0ab574d4bb9"
      },
      "execution_count": 15,
      "outputs": [
        {
          "output_type": "execute_result",
          "data": {
            "text/plain": [
              "array([1, 0, 0, ..., 0, 1, 1])"
            ]
          },
          "metadata": {},
          "execution_count": 15
        }
      ]
    },
    {
      "cell_type": "code",
      "source": [
        "print(\"Score do modelo = %.2f%%\" % (knn.score(X_test, y_test)*100))"
      ],
      "metadata": {
        "colab": {
          "base_uri": "https://localhost:8080/"
        },
        "id": "q8Ye33azKbyy",
        "outputId": "aaf26298-3703-4a0b-bc8d-658812e9160c"
      },
      "execution_count": 16,
      "outputs": [
        {
          "output_type": "stream",
          "name": "stdout",
          "text": [
            "Score do modelo = 81.48%\n"
          ]
        }
      ]
    },
    {
      "cell_type": "markdown",
      "source": [
        "#### Teorema de Naive Bayes"
      ],
      "metadata": {
        "id": "hD46EccqT8tL"
      }
    },
    {
      "cell_type": "markdown",
      "source": [
        "*   Probabilidade condicional -> Probabilidade de um evento ocorrer sabendo que um outro evento, chamado de condicionante, já ocorreu P(A|B)</br>\n",
        " * Exemplo: Probabilidade de se ter covid quando seu teste deu positivo (entra os falsos negativos e a probabilidade de se estar com covid em relação à situação geral)</br>\n",
        "*   Princípio da independencia condicional: cada uma das características de uma determinada classe contribuem de forma independente entre si para que uma classe seja determinada </br>\n",
        "*   Verossímilhança: mede a probabilidade de que um evento tenha acontecido </br>\n",
        "Prob priori da classe: qual a prob de uma determinada classe ocorrer em relação à toda amostra </br>\n",
        "*   Prob a pior da evidência: qual a probabilidade da evidência ocorrer </br>\n"
      ],
      "metadata": {
        "id": "iUxrBZmAUHq5"
      }
    },
    {
      "cell_type": "markdown",
      "source": [
        "##### Modelo Bernoulli Naive Bayes -> BernoulliNB()"
      ],
      "metadata": {
        "id": "gfhQyURXVZ0_"
      }
    },
    {
      "cell_type": "markdown",
      "source": [
        "\n",
        "\n",
        "*   Multivariada de Bernoulli: dados em variáveis binárias (0 1)\n",
        "*   Parâmetro P da Distribuição de Bernoulli: Probabilidade de uma caracteristica que apareça em 1 dado que o resultado foi 0\n",
        "\n"
      ],
      "metadata": {
        "id": "O0DP5TXaVcc6"
      }
    },
    {
      "cell_type": "markdown",
      "source": [
        "> 3 implementações mais utilizadas do SKlearn: BernoulliNB(), GaussianNB() e MultinomialNB()"
      ],
      "metadata": {
        "id": "CP7HKUBDY5yj"
      }
    },
    {
      "cell_type": "markdown",
      "source": [
        ">Churn é uma variável binária"
      ],
      "metadata": {
        "id": "d71CcdhtWRLf"
      }
    },
    {
      "cell_type": "code",
      "source": [
        "#Valor ideal para dividirmos nossos dados e colocarmos como limite (X > mediana = 1 | X < mediana =0)\n",
        "#utilizando a mediana, pois é o valor central dos dados\n",
        "central = np.median(X_train)\n",
        "central"
      ],
      "metadata": {
        "colab": {
          "base_uri": "https://localhost:8080/"
        },
        "id": "qRkipJ61T_j7",
        "outputId": "f878fb1b-921a-43c0-f1c4-f94c93814c2e"
      },
      "execution_count": 20,
      "outputs": [
        {
          "output_type": "execute_result",
          "data": {
            "text/plain": [
              "-0.4461759755508453"
            ]
          },
          "metadata": {},
          "execution_count": 20
        }
      ]
    },
    {
      "cell_type": "code",
      "source": [
        "from sklearn.naive_bayes import BernoulliNB\n",
        "\n",
        "bnb = BernoulliNB(binarize=central)\n",
        "\n",
        "bnb.fit(X_train, y_train)"
      ],
      "metadata": {
        "colab": {
          "base_uri": "https://localhost:8080/"
        },
        "id": "lTVeFeJdXeyz",
        "outputId": "89602551-00bd-4a98-969b-cdb8fe1dd5d7"
      },
      "execution_count": 21,
      "outputs": [
        {
          "output_type": "execute_result",
          "data": {
            "text/plain": [
              "BernoulliNB(binarize=-0.4461759755508453)"
            ]
          },
          "metadata": {},
          "execution_count": 21
        }
      ]
    },
    {
      "cell_type": "code",
      "source": [
        "predict_bnb = bnb.predict(X_test)\n",
        "predict_bnb"
      ],
      "metadata": {
        "colab": {
          "base_uri": "https://localhost:8080/"
        },
        "id": "vh2gBbTkYD0G",
        "outputId": "03c60bb6-20c8-4842-8e14-8498f519accf"
      },
      "execution_count": 24,
      "outputs": [
        {
          "output_type": "execute_result",
          "data": {
            "text/plain": [
              "array([1, 0, 0, ..., 1, 1, 1])"
            ]
          },
          "metadata": {},
          "execution_count": 24
        }
      ]
    },
    {
      "cell_type": "code",
      "source": [
        "print(\"Model Score = %.2f%%\" % (bnb.score(X_test, y_test)*100))"
      ],
      "metadata": {
        "colab": {
          "base_uri": "https://localhost:8080/"
        },
        "id": "zwCxUAMnYWNP",
        "outputId": "5644dedd-d136-44b2-d548-4858b0949e4a"
      },
      "execution_count": 26,
      "outputs": [
        {
          "output_type": "stream",
          "name": "stdout",
          "text": [
            "Model Score = 75.43%\n"
          ]
        }
      ]
    },
    {
      "cell_type": "markdown",
      "source": [
        "### Decision Tree"
      ],
      "metadata": {
        "id": "WLDWkqioZLsM"
      }
    },
    {
      "cell_type": "markdown",
      "source": [
        "*   Usado tanto para classificação quando regressão\n",
        "*   Nó raiz: primeiro nó de decisão\n",
        "*   Árvore de decisão onde cada nó representa uma decisão criteral (critério de impureza)\n",
        "*   Nós de decisão: decidem se um modelo será classificado como 0 ou 1 com base na decisão decidida no nó (Nó final ou nó folha ou nó terminal)\n"
      ],
      "metadata": {
        "id": "l6v_T56SZNu7"
      }
    },
    {
      "cell_type": "markdown",
      "source": [
        "Desvantagens\n",
        ">Overfitting</br>\n",
        ">Instabilidade"
      ],
      "metadata": {
        "id": "3jEO-8q9aWe7"
      }
    },
    {
      "cell_type": "markdown",
      "source": [
        "Principais critérios de divisão de nós:\n",
        "*   Índice Gini (importante)\n",
        " * Objetivo é medir o quão heterogênio o dado está, ou seja, mais próximo de 1\n",
        " * Quanto menor, melhor (mais homogênio)\n",
        "*   Qui-quadrado\n",
        "*   Ganho de informação (Entropy) (Importante)\n",
        " * Quanto menor, melhor. Mais ordenado, maior ganho de informação.\n",
        "*   Redução da Variância"
      ],
      "metadata": {
        "id": "_7A_Ao1CdJnX"
      }
    },
    {
      "cell_type": "code",
      "source": [
        "from sklearn.tree import DecisionTreeClassifier\n",
        "\n",
        "dtc = DecisionTreeClassifier(criterion='entropy', random_state=42)\n",
        "\n",
        "\n",
        "dtc.fit(X_train, y_train)"
      ],
      "metadata": {
        "colab": {
          "base_uri": "https://localhost:8080/"
        },
        "id": "Hk0Z7AIlY-KR",
        "outputId": "1e4906dc-e264-40c6-ea9b-d162f0617d28"
      },
      "execution_count": 27,
      "outputs": [
        {
          "output_type": "execute_result",
          "data": {
            "text/plain": [
              "DecisionTreeClassifier(criterion='entropy', random_state=42)"
            ]
          },
          "metadata": {},
          "execution_count": 27
        }
      ]
    },
    {
      "cell_type": "code",
      "source": [
        "dtc.feature_importances_"
      ],
      "metadata": {
        "colab": {
          "base_uri": "https://localhost:8080/"
        },
        "id": "03JOuDghfT9g",
        "outputId": "e785aebc-8225-4f8a-f023-2c891caf0466"
      },
      "execution_count": 28,
      "outputs": [
        {
          "output_type": "execute_result",
          "data": {
            "text/plain": [
              "array([0.02100894, 0.01395648, 0.0068095 , 0.01987306, 0.01892071,\n",
              "       0.16274644, 0.22207834, 0.00929414, 0.00344576, 0.01033768,\n",
              "       0.0019815 , 0.03131262, 0.00065123, 0.00849934, 0.        ,\n",
              "       0.01698366, 0.00622973, 0.        , 0.00964718, 0.01267467,\n",
              "       0.00027769, 0.00770208, 0.01306512, 0.00368329, 0.02048744,\n",
              "       0.00371587, 0.        , 0.00156955, 0.00671244, 0.0003825 ,\n",
              "       0.01126638, 0.03611651, 0.16384005, 0.07422263, 0.01760111,\n",
              "       0.02127213, 0.02182911, 0.01980513])"
            ]
          },
          "metadata": {},
          "execution_count": 28
        }
      ]
    },
    {
      "cell_type": "code",
      "source": [
        "predict_dtc = dtc.predict(X_test)"
      ],
      "metadata": {
        "id": "9qLrathtfWWx"
      },
      "execution_count": 36,
      "outputs": []
    },
    {
      "cell_type": "code",
      "source": [
        "predict_dtc"
      ],
      "metadata": {
        "colab": {
          "base_uri": "https://localhost:8080/"
        },
        "id": "nrTK52TgfcIG",
        "outputId": "5cd94056-df9a-4e2b-fe25-88034feb0210"
      },
      "execution_count": 38,
      "outputs": [
        {
          "output_type": "execute_result",
          "data": {
            "text/plain": [
              "array([0, 0, 0, ..., 1, 1, 1])"
            ]
          },
          "metadata": {},
          "execution_count": 38
        }
      ]
    },
    {
      "cell_type": "code",
      "source": [
        "print(\"DTC Model Score = %.2f%%\" % (dtc.score(X_test, y_test)*100))"
      ],
      "metadata": {
        "colab": {
          "base_uri": "https://localhost:8080/"
        },
        "id": "BhPJdMrffdmz",
        "outputId": "1b5e0c16-3b37-4701-c0ac-8568e347cf31"
      },
      "execution_count": 32,
      "outputs": [
        {
          "output_type": "stream",
          "name": "stdout",
          "text": [
            "DTC Model Score = 80.77%\n"
          ]
        }
      ]
    },
    {
      "cell_type": "markdown",
      "source": [
        "## Validação dos modelos"
      ],
      "metadata": {
        "id": "eqQFW52dfwk_"
      }
    },
    {
      "cell_type": "markdown",
      "source": [
        "### Matriz de confusão\n",
        "\n",
        "Tabela contendo 4 formas de visualizar os resultados: </br>\n",
        "![matriz de confusao.PNG](data:image/png;base64,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)"
      ],
      "metadata": {
        "id": "6Q0zFuX5gGLC"
      }
    },
    {
      "cell_type": "markdown",
      "source": [
        "As colunas representam os resultados preditos e as linhas representam os valores reais (como realmente são)</br>\n",
        ">VP = verdadeiro positivo </br>\n",
        "  VN = verdadeiro negativo </br>\n",
        "  FP = falso positivo </br>\n",
        "  FN = falso negativo </br>\n",
        "\n",
        "> FN = erro tipo 1 </br>\n",
        "FP = erro do tipo 2\n"
      ],
      "metadata": {
        "id": "jV6Z7e6bhHGp"
      }
    },
    {
      "cell_type": "code",
      "source": [
        "# Função para gerar a matriz de confusão como está no para saber mais.\n",
        "\n",
        "import seaborn as sns\n",
        "import matplotlib.pyplot as plt\n",
        "import numpy as np\n",
        "\n",
        "def gerando_matriz(matriz_confusao, labels, categorias, cmap=\"viridis\"):\n",
        "    group_counts = [f\"{value}\" for value in matriz_confusao.flatten()]\n",
        "    labels = [f\"{v1}\" for v1 in labels]\n",
        "    lb = [f\"{v1}\\n{v2}\" for v1, v2 in zip(labels, group_counts)]\n",
        "    lb = np.asarray(lb).reshape(matriz_confusao.shape)\n",
        "    \n",
        "    ax = plt.subplot()\n",
        "    sns.set(font_scale=1.1) \n",
        "    sns.heatmap(matriz_confusao,\n",
        "                annot=lb,\n",
        "                ax=ax,\n",
        "                cmap=cmap,\n",
        "                fmt=\"\",\n",
        "                xticklabels=categorias,\n",
        "                yticklabels=categorias)\n",
        "    \n",
        "    label_font = {'size':'12'}  \n",
        "    ax.set_xlabel('Valores preditos', fontdict=label_font);\n",
        "    ax.set_ylabel('Valores verdadeiros', fontdict=label_font);\n",
        "    \n",
        "    ax.tick_params(axis='both', which='major', labelsize=10)  "
      ],
      "metadata": {
        "id": "iq4kfo3PkkT3"
      },
      "execution_count": 42,
      "outputs": []
    },
    {
      "cell_type": "code",
      "source": [
        "categorias = [\"0\", \"1\"]\n",
        "labels = ['Verdadeiro Negativo','Falso Positivo',\n",
        "          'Falso Negativo','Verdadeiro Positivo']"
      ],
      "metadata": {
        "id": "zsOw14btkrUj"
      },
      "execution_count": 43,
      "outputs": []
    },
    {
      "cell_type": "code",
      "source": [
        "from sklearn.metrics import confusion_matrix\n",
        "mc1 = confusion_matrix(y_test, predict_knn)\n",
        "print(confusion_matrix(y_test, predict_knn))"
      ],
      "metadata": {
        "colab": {
          "base_uri": "https://localhost:8080/"
        },
        "id": "IVBr4ykYfgoc",
        "outputId": "85f49751-5b7b-43a1-b7a2-e3b7ab19bbf4"
      },
      "execution_count": 44,
      "outputs": [
        {
          "output_type": "stream",
          "name": "stdout",
          "text": [
            "[[1241  328]\n",
            " [ 247 1289]]\n"
          ]
        }
      ]
    },
    {
      "cell_type": "code",
      "source": [
        "gerando_matriz(mc1, labels, categorias, cmap=\"magma_r\")"
      ],
      "metadata": {
        "colab": {
          "base_uri": "https://localhost:8080/",
          "height": 282
        },
        "id": "vow7ZcVgkuoI",
        "outputId": "e054dc48-6cbc-48bc-9268-38906c1bf259"
      },
      "execution_count": 45,
      "outputs": [
        {
          "output_type": "display_data",
          "data": {
            "text/plain": [
              "<Figure size 432x288 with 2 Axes>"
            ],
            "image/png": "[encoded data removed]"
          },
          "metadata": {
            "needs_background": "light"
          }
        }
      ]
    },
    {
      "cell_type": "code",
      "source": [
        "mc2 = confusion_matrix(y_test, predict_bnb)\n",
        "print(confusion_matrix(y_test, predict_bnb))"
      ],
      "metadata": {
        "colab": {
          "base_uri": "https://localhost:8080/"
        },
        "id": "GxrRp1SNhxUu",
        "outputId": "35c0ccc7-7853-49ad-952e-3498f18cd880"
      },
      "execution_count": 47,
      "outputs": [
        {
          "output_type": "stream",
          "name": "stdout",
          "text": [
            "[[1048  521]\n",
            " [ 242 1294]]\n"
          ]
        }
      ]
    },
    {
      "cell_type": "code",
      "source": [
        "gerando_matriz(mc2, labels, categorias, cmap=\"magma_r\")"
      ],
      "metadata": {
        "colab": {
          "base_uri": "https://localhost:8080/",
          "height": 285
        },
        "id": "aFtlN2YFlJt_",
        "outputId": "56e5566f-1ae5-484b-edc3-92bf08b34ba1"
      },
      "execution_count": 48,
      "outputs": [
        {
          "output_type": "display_data",
          "data": {
            "text/plain": [
              "<Figure size 432x288 with 2 Axes>"
            ],
            "image/png": "[encoded data removed]"
          },
          "metadata": {}
        }
      ]
    },
    {
      "cell_type": "code",
      "source": [
        "mc3 = confusion_matrix(y_test, predict_dtc)\n",
        "print(confusion_matrix(y_test, predict_dtc))"
      ],
      "metadata": {
        "colab": {
          "base_uri": "https://localhost:8080/"
        },
        "id": "CvIdzi9EhzFt",
        "outputId": "51aa0caf-3a5a-4591-a4df-7af7fb319299"
      },
      "execution_count": 49,
      "outputs": [
        {
          "output_type": "stream",
          "name": "stdout",
          "text": [
            "[[1249  320]\n",
            " [ 277 1259]]\n"
          ]
        }
      ]
    },
    {
      "cell_type": "code",
      "source": [
        "gerando_matriz(mc3, labels, categorias, cmap=\"magma_r\")"
      ],
      "metadata": {
        "colab": {
          "base_uri": "https://localhost:8080/",
          "height": 285
        },
        "id": "iGzYH1SrlQZA",
        "outputId": "51218b73-9848-46ad-901f-a90408a2f238"
      },
      "execution_count": 50,
      "outputs": [
        {
          "output_type": "display_data",
          "data": {
            "text/plain": [
              "<Figure size 432x288 with 2 Axes>"
            ],
            "image/png": "[encoded data removed]"
          },
          "metadata": {}
        }
      ]
    },
    {
      "cell_type": "markdown",
      "source": [
        "Comparando as matrizes de confusão, podemos perceber que KNN e DTC tiveram melhores valores VP e VN. Porém BNB apresenta um alto número de FP"
      ],
      "metadata": {
        "id": "-YAwtbA9h8uD"
      }
    },
    {
      "cell_type": "markdown",
      "source": [
        "### Acurácia dos modelos\n",
        "\n",
        "*   Do total, o quanto o modelo acertou"
      ],
      "metadata": {
        "id": "PXneLtoBh8wf"
      }
    },
    {
      "cell_type": "code",
      "source": [
        "from sklearn.metrics import accuracy_score"
      ],
      "metadata": {
        "id": "abM4VsfJl7U-"
      },
      "execution_count": 54,
      "outputs": []
    },
    {
      "cell_type": "code",
      "source": [
        "print(\"KNN Model Score = %.2f%%\" % (accuracy_score(y_test, predict_knn)*100))"
      ],
      "metadata": {
        "colab": {
          "base_uri": "https://localhost:8080/"
        },
        "id": "ItXp8DzNh0sC",
        "outputId": "84e2d8e8-0ded-4ba5-8b39-a90221fe1983"
      },
      "execution_count": 55,
      "outputs": [
        {
          "output_type": "stream",
          "name": "stdout",
          "text": [
            "KNN Model Score = 81.48%\n"
          ]
        }
      ]
    },
    {
      "cell_type": "code",
      "source": [
        "print(\"BNB Model Score = %.2f%%\" % (accuracy_score(y_test, predict_bnb)*100))"
      ],
      "metadata": {
        "colab": {
          "base_uri": "https://localhost:8080/"
        },
        "id": "C5srcVUVlwLh",
        "outputId": "e62e0a96-4ede-4961-a8c9-64f50849399e"
      },
      "execution_count": 56,
      "outputs": [
        {
          "output_type": "stream",
          "name": "stdout",
          "text": [
            "BNB Model Score = 75.43%\n"
          ]
        }
      ]
    },
    {
      "cell_type": "code",
      "source": [
        "print(\"DTC Model Score = %.2f%%\" % (accuracy_score(y_test, predict_dtc)*100))"
      ],
      "metadata": {
        "colab": {
          "base_uri": "https://localhost:8080/"
        },
        "id": "pPdcdx1RlwY9",
        "outputId": "de41f939-5250-47f9-9d58-7de5fca4dcde"
      },
      "execution_count": 58,
      "outputs": [
        {
          "output_type": "stream",
          "name": "stdout",
          "text": [
            "DTC Model Score = 80.77%\n"
          ]
        }
      ]
    },
    {
      "cell_type": "markdown",
      "source": [
        "### Precisão\n",
        "*   Calcula quantos verdadeiros positivos foram calculados de forma correta"
      ],
      "metadata": {
        "id": "k0nq3Gt3mRLN"
      }
    },
    {
      "cell_type": "code",
      "source": [
        "from sklearn.metrics import precision_score"
      ],
      "metadata": {
        "id": "fk30y0xkmIx3"
      },
      "execution_count": 59,
      "outputs": []
    },
    {
      "cell_type": "code",
      "source": [
        "print(\"KNN Model Precision Score = %.2f%%\" % (precision_score(y_test, predict_knn)*100))"
      ],
      "metadata": {
        "colab": {
          "base_uri": "https://localhost:8080/"
        },
        "id": "YapcpFY8mcgr",
        "outputId": "12d4ba55-ed3d-42c4-e946-cbc883de5671"
      },
      "execution_count": 60,
      "outputs": [
        {
          "output_type": "stream",
          "name": "stdout",
          "text": [
            "KNN Model Precision Score = 79.72%\n"
          ]
        }
      ]
    },
    {
      "cell_type": "code",
      "source": [
        "print(\"BNB Model Precision Score = %.2f%%\" % (precision_score(y_test, predict_bnb)*100))"
      ],
      "metadata": {
        "colab": {
          "base_uri": "https://localhost:8080/"
        },
        "id": "T5ltQwwKmcqv",
        "outputId": "15436efe-2ec9-41d8-ca9d-012769239481"
      },
      "execution_count": 61,
      "outputs": [
        {
          "output_type": "stream",
          "name": "stdout",
          "text": [
            "BNB Model Precision Score = 71.29%\n"
          ]
        }
      ]
    },
    {
      "cell_type": "code",
      "source": [
        "print(\"DTC Model Precision Score = %.2f%%\" % (precision_score(y_test, predict_dtc)*100))"
      ],
      "metadata": {
        "colab": {
          "base_uri": "https://localhost:8080/"
        },
        "id": "627gx2Msmcwc",
        "outputId": "0b1d9b50-fff0-4633-b05d-18307316bd03"
      },
      "execution_count": 62,
      "outputs": [
        {
          "output_type": "stream",
          "name": "stdout",
          "text": [
            "DTC Model Precision Score = 79.73%\n"
          ]
        }
      ]
    },
    {
      "cell_type": "markdown",
      "source": [
        "### Recall\n",
        "*   Sensibilidade\n",
        "*   Calcula o quão bom o modelo está em classificar corretamente os resultados verdadeiramente positivos"
      ],
      "metadata": {
        "id": "80lKXxHjmmnc"
      }
    },
    {
      "cell_type": "code",
      "source": [
        "from sklearn.metrics import recall_score"
      ],
      "metadata": {
        "id": "LoK2cac0mk93"
      },
      "execution_count": 63,
      "outputs": []
    },
    {
      "cell_type": "code",
      "source": [
        "print(\"KNN Model Recall Score = %.2f%%\" % (recall_score(y_test, predict_knn)*100))"
      ],
      "metadata": {
        "colab": {
          "base_uri": "https://localhost:8080/"
        },
        "id": "G56ibGGMnLyX",
        "outputId": "abcc1a49-96ac-40f4-c1d5-9d5ac8b855d8"
      },
      "execution_count": 64,
      "outputs": [
        {
          "output_type": "stream",
          "name": "stdout",
          "text": [
            "KNN Model Recall Score = 83.92%\n"
          ]
        }
      ]
    },
    {
      "cell_type": "code",
      "source": [
        "print(\"BNB Model Recall Score = %.2f%%\" % (recall_score(y_test, predict_bnb)*100))"
      ],
      "metadata": {
        "colab": {
          "base_uri": "https://localhost:8080/"
        },
        "id": "nI8leyywnL3G",
        "outputId": "32c029bd-72db-4a69-d476-ef63de8f87ec"
      },
      "execution_count": 66,
      "outputs": [
        {
          "output_type": "stream",
          "name": "stdout",
          "text": [
            "BNB Model Recall Score = 84.24%\n"
          ]
        }
      ]
    },
    {
      "cell_type": "code",
      "source": [
        "print(\"DTC Model Recall Score = %.2f%%\" % (recall_score(y_test, predict_dtc)*100))"
      ],
      "metadata": {
        "colab": {
          "base_uri": "https://localhost:8080/"
        },
        "id": "_OoD5xr0nL6y",
        "outputId": "eb4f8e44-d674-4805-8bdd-c04f9e54ad4c"
      },
      "execution_count": 65,
      "outputs": [
        {
          "output_type": "stream",
          "name": "stdout",
          "text": [
            "DTC Model Recall Score = 81.97%\n"
          ]
        }
      ]
    },
    {
      "cell_type": "markdown",
      "source": [
        "### Algumas outras métricas de avaliação do modelo\n",
        "* F1-Score\n",
        " * Identifica se algum dos valores de recall ou precisão estão baiuxos, uma vez que não é interessante um modelo com alto recall ou pouca previsão\n",
        " * Menor, melhor\n",
        "* Curva ROC ou AUC\n",
        " * Area Under the Curve\n",
        " * Quanto maior, melhor (max 1)\n",
        " * Calculada com diversos pontos de corte\n",
        " * Cria uma matriz de confusão para cada ponto de corte\n",
        " * Quanto mais rapidamente uma curva atinge o ponto 100% (1 eixo y) mais valores negativos ela classificará positivamente até chegar no eixo (1,1)\n",
        " * O AUC calcula a área em que a curva permanece abaixo do 100%, quanto maior, melhor"
      ],
      "metadata": {
        "id": "CYaqOnlGoJWj"
      }
    },
    {
      "cell_type": "markdown",
      "source": [
        "### Decidindo o melhor modelo:\n",
        "\n",
        "* Precisão foi definida como a métrica chave foi porque o Churn positivo é o mais importante nessa avaliação, pois é o valor que precisamos reduzir nesta análise.\n",
        "* Portanto, o melhor modelo para o cliente é o DTC"
      ],
      "metadata": {
        "id": "IU319Rjmp5hQ"
      }
    }
  ]
}